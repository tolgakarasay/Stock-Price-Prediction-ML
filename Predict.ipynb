{
 "cells": [
  {
   "cell_type": "markdown",
   "metadata": {},
   "source": [
    "# Stock Price Prediction by Machine Learning"
   ]
  },
  {
   "cell_type": "code",
   "execution_count": 1,
   "metadata": {},
   "outputs": [],
   "source": [
    "#This code was written based on a tutorial (https://www.youtube.com/watch?v=QIUxPv5PJOY)\n",
    "#to learn to create prediction models with python ML libraries."
   ]
  },
  {
   "cell_type": "code",
   "execution_count": 2,
   "metadata": {},
   "outputs": [],
   "source": [
    "import math\n",
    "import pandas_datareader as web\n",
    "import numpy as np\n",
    "import pandas as pd\n",
    "from sklearn.preprocessing import MinMaxScaler #başka bir scaler da dene.\n",
    "from keras.models import Sequential\n",
    "from keras.layers import Dense, LSTM\n",
    "import matplotlib.pyplot as plt\n",
    "plt.style.use(\"fivethirtyeight\")"
   ]
  },
  {
   "cell_type": "code",
   "execution_count": 3,
   "metadata": {},
   "outputs": [
    {
     "data": {
      "text/html": [
       "<div>\n",
       "<style scoped>\n",
       "    .dataframe tbody tr th:only-of-type {\n",
       "        vertical-align: middle;\n",
       "    }\n",
       "\n",
       "    .dataframe tbody tr th {\n",
       "        vertical-align: top;\n",
       "    }\n",
       "\n",
       "    .dataframe thead th {\n",
       "        text-align: right;\n",
       "    }\n",
       "</style>\n",
       "<table border=\"1\" class=\"dataframe\">\n",
       "  <thead>\n",
       "    <tr style=\"text-align: right;\">\n",
       "      <th></th>\n",
       "      <th>High</th>\n",
       "      <th>Low</th>\n",
       "      <th>Open</th>\n",
       "      <th>Close</th>\n",
       "      <th>Volume</th>\n",
       "      <th>Adj Close</th>\n",
       "    </tr>\n",
       "    <tr>\n",
       "      <th>Date</th>\n",
       "      <th></th>\n",
       "      <th></th>\n",
       "      <th></th>\n",
       "      <th></th>\n",
       "      <th></th>\n",
       "      <th></th>\n",
       "    </tr>\n",
       "  </thead>\n",
       "  <tbody>\n",
       "    <tr>\n",
       "      <th>2012-01-03</th>\n",
       "      <td>334.409424</td>\n",
       "      <td>326.511505</td>\n",
       "      <td>326.796783</td>\n",
       "      <td>333.038025</td>\n",
       "      <td>7345647.0</td>\n",
       "      <td>333.038025</td>\n",
       "    </tr>\n",
       "    <tr>\n",
       "      <th>2012-01-04</th>\n",
       "      <td>335.460449</td>\n",
       "      <td>330.640656</td>\n",
       "      <td>332.847839</td>\n",
       "      <td>334.474487</td>\n",
       "      <td>5722272.0</td>\n",
       "      <td>334.474487</td>\n",
       "    </tr>\n",
       "    <tr>\n",
       "      <th>2012-01-05</th>\n",
       "      <td>332.317322</td>\n",
       "      <td>328.443451</td>\n",
       "      <td>331.396393</td>\n",
       "      <td>329.834839</td>\n",
       "      <td>6559234.0</td>\n",
       "      <td>329.834839</td>\n",
       "    </tr>\n",
       "    <tr>\n",
       "      <th>2012-01-06</th>\n",
       "      <td>330.330322</td>\n",
       "      <td>325.220215</td>\n",
       "      <td>329.904907</td>\n",
       "      <td>325.335327</td>\n",
       "      <td>5380414.0</td>\n",
       "      <td>325.335327</td>\n",
       "    </tr>\n",
       "    <tr>\n",
       "      <th>2012-01-09</th>\n",
       "      <td>323.823822</td>\n",
       "      <td>310.925934</td>\n",
       "      <td>323.573578</td>\n",
       "      <td>311.541534</td>\n",
       "      <td>11633555.0</td>\n",
       "      <td>311.541534</td>\n",
       "    </tr>\n",
       "    <tr>\n",
       "      <th>...</th>\n",
       "      <td>...</td>\n",
       "      <td>...</td>\n",
       "      <td>...</td>\n",
       "      <td>...</td>\n",
       "      <td>...</td>\n",
       "      <td>...</td>\n",
       "    </tr>\n",
       "    <tr>\n",
       "      <th>2021-01-25</th>\n",
       "      <td>1921.819946</td>\n",
       "      <td>1859.160034</td>\n",
       "      <td>1912.739990</td>\n",
       "      <td>1894.280029</td>\n",
       "      <td>2529300.0</td>\n",
       "      <td>1894.280029</td>\n",
       "    </tr>\n",
       "    <tr>\n",
       "      <th>2021-01-26</th>\n",
       "      <td>1915.750000</td>\n",
       "      <td>1876.130005</td>\n",
       "      <td>1885.989990</td>\n",
       "      <td>1907.949951</td>\n",
       "      <td>1573100.0</td>\n",
       "      <td>1907.949951</td>\n",
       "    </tr>\n",
       "    <tr>\n",
       "      <th>2021-01-27</th>\n",
       "      <td>1880.469971</td>\n",
       "      <td>1797.280029</td>\n",
       "      <td>1874.910034</td>\n",
       "      <td>1818.939941</td>\n",
       "      <td>4125600.0</td>\n",
       "      <td>1818.939941</td>\n",
       "    </tr>\n",
       "    <tr>\n",
       "      <th>2021-01-28</th>\n",
       "      <td>1887.989990</td>\n",
       "      <td>1831.000000</td>\n",
       "      <td>1831.000000</td>\n",
       "      <td>1853.199951</td>\n",
       "      <td>2763900.0</td>\n",
       "      <td>1853.199951</td>\n",
       "    </tr>\n",
       "    <tr>\n",
       "      <th>2021-01-29</th>\n",
       "      <td>1847.540039</td>\n",
       "      <td>1801.560059</td>\n",
       "      <td>1834.020020</td>\n",
       "      <td>1827.359985</td>\n",
       "      <td>2225200.0</td>\n",
       "      <td>1827.359985</td>\n",
       "    </tr>\n",
       "  </tbody>\n",
       "</table>\n",
       "<p>2284 rows × 6 columns</p>\n",
       "</div>"
      ],
      "text/plain": [
       "                   High          Low         Open        Close      Volume  \\\n",
       "Date                                                                         \n",
       "2012-01-03   334.409424   326.511505   326.796783   333.038025   7345647.0   \n",
       "2012-01-04   335.460449   330.640656   332.847839   334.474487   5722272.0   \n",
       "2012-01-05   332.317322   328.443451   331.396393   329.834839   6559234.0   \n",
       "2012-01-06   330.330322   325.220215   329.904907   325.335327   5380414.0   \n",
       "2012-01-09   323.823822   310.925934   323.573578   311.541534  11633555.0   \n",
       "...                 ...          ...          ...          ...         ...   \n",
       "2021-01-25  1921.819946  1859.160034  1912.739990  1894.280029   2529300.0   \n",
       "2021-01-26  1915.750000  1876.130005  1885.989990  1907.949951   1573100.0   \n",
       "2021-01-27  1880.469971  1797.280029  1874.910034  1818.939941   4125600.0   \n",
       "2021-01-28  1887.989990  1831.000000  1831.000000  1853.199951   2763900.0   \n",
       "2021-01-29  1847.540039  1801.560059  1834.020020  1827.359985   2225200.0   \n",
       "\n",
       "              Adj Close  \n",
       "Date                     \n",
       "2012-01-03   333.038025  \n",
       "2012-01-04   334.474487  \n",
       "2012-01-05   329.834839  \n",
       "2012-01-06   325.335327  \n",
       "2012-01-09   311.541534  \n",
       "...                 ...  \n",
       "2021-01-25  1894.280029  \n",
       "2021-01-26  1907.949951  \n",
       "2021-01-27  1818.939941  \n",
       "2021-01-28  1853.199951  \n",
       "2021-01-29  1827.359985  \n",
       "\n",
       "[2284 rows x 6 columns]"
      ]
     },
     "execution_count": 3,
     "metadata": {},
     "output_type": "execute_result"
    }
   ],
   "source": [
    "df = web.DataReader('GOOGL', data_source='yahoo', start='2012-01-01', end='2021-01-31')\n",
    "df"
   ]
  },
  {
   "cell_type": "code",
   "execution_count": 4,
   "metadata": {},
   "outputs": [
    {
     "data": {
      "text/plain": [
       "(2284, 6)"
      ]
     },
     "execution_count": 4,
     "metadata": {},
     "output_type": "execute_result"
    }
   ],
   "source": [
    "df.shape"
   ]
  },
  {
   "cell_type": "code",
   "execution_count": 5,
   "metadata": {},
   "outputs": [
    {
     "data": {
      "image/png": "[encoded data removed]",
      "text/plain": [
       "<Figure size 1152x360 with 1 Axes>"
      ]
     },
     "metadata": {},
     "output_type": "display_data"
    }
   ],
   "source": [
    "plt.figure(figsize=(16,5))\n",
    "plt.title(\"Close price history\")\n",
    "plt.plot(df[\"Close\"])\n",
    "plt.xlabel(\"Date\", fontsize=18)\n",
    "plt.ylabel(\"Close Price USD\", fontsize=18)\n",
    "plt.show()"
   ]
  },
  {
   "cell_type": "code",
   "execution_count": 6,
   "metadata": {},
   "outputs": [
    {
     "data": {
      "text/plain": [
       "2056"
      ]
     },
     "execution_count": 6,
     "metadata": {},
     "output_type": "execute_result"
    }
   ],
   "source": [
    "data=df.filter([\"Close\"])\n",
    "\n",
    "dataset = data.values\n",
    "\n",
    "training_data_len = math.ceil(len(dataset) * 0.90)\n",
    "\n",
    "training_data_len"
   ]
  },
  {
   "cell_type": "code",
   "execution_count": 7,
   "metadata": {},
   "outputs": [
    {
     "data": {
      "text/plain": [
       "array([[0.03269562],\n",
       "       [0.03357789],\n",
       "       [0.03072824],\n",
       "       ...,\n",
       "       [0.94533042],\n",
       "       [0.96637278],\n",
       "       [0.95050198]])"
      ]
     },
     "execution_count": 7,
     "metadata": {},
     "output_type": "execute_result"
    }
   ],
   "source": [
    "scaler = MinMaxScaler(feature_range=(0,1))\n",
    "scaled_data = scaler.fit_transform(dataset)\n",
    "\n",
    "scaled_data"
   ]
  },
  {
   "cell_type": "code",
   "execution_count": 8,
   "metadata": {},
   "outputs": [],
   "source": [
    "train_data = scaled_data[0:training_data_len, :]"
   ]
  },
  {
   "cell_type": "code",
   "execution_count": 9,
   "metadata": {},
   "outputs": [
    {
     "name": "stdout",
     "output_type": "stream",
     "text": [
      "[array([0.03269562, 0.03357789, 0.03072824, 0.02796466, 0.01949256,\n",
      "       0.01970161, 0.02056849, 0.02169974, 0.0202703 , 0.0213739 ,\n",
      "       0.02270495, 0.02475227, 0.0082815 , 0.00813701, 0.00672603,\n",
      "       0.00320931, 0.00278201, 0.00643399, 0.00573003, 0.00647395,\n",
      "       0.00669529, 0.00801097, 0.01146007, 0.01538256, 0.01466938,\n",
      "       0.01561618, 0.01611111, 0.01440502, 0.01633859, 0.01558852,\n",
      "       0.01429741, 0.01459253, 0.0140146 , 0.01689192, 0.01502904,\n",
      "       0.0144665 , 0.01563155, 0.01545019, 0.01824144, 0.0181984 ,\n",
      "       0.01947412, 0.01912061, 0.01696877, 0.01411297, 0.0146786 ,\n",
      "       0.01478312, 0.01266509, 0.01417138, 0.01805391, 0.01750366,\n",
      "       0.01908373, 0.02028567, 0.02303388, 0.02288326, 0.02487831,\n",
      "       0.02674427, 0.02568063, 0.02775255, 0.02704244, 0.02972918])]\n",
      "[0.027469744743590846]\n"
     ]
    }
   ],
   "source": [
    "x_train = []\n",
    "y_train = []\n",
    "\n",
    "for i in range(60, len(train_data)):\n",
    "    x_train.append(train_data[i-60:i,0])\n",
    "    y_train.append(train_data[i,0])\n",
    "    if i <= 60:\n",
    "        print(x_train)\n",
    "        print(y_train)"
   ]
  },
  {
   "cell_type": "code",
   "execution_count": 10,
   "metadata": {},
   "outputs": [],
   "source": [
    "x_train, y_train = np.array(x_train), np.array(y_train)"
   ]
  },
  {
   "cell_type": "code",
   "execution_count": 11,
   "metadata": {},
   "outputs": [
    {
     "data": {
      "text/plain": [
       "(1996, 60, 1)"
      ]
     },
     "execution_count": 11,
     "metadata": {},
     "output_type": "execute_result"
    }
   ],
   "source": [
    "x_train = np.reshape(x_train, (x_train.shape[0],x_train.shape[1],1))\n",
    "x_train.shape\n"
   ]
  },
  {
   "cell_type": "code",
   "execution_count": 12,
   "metadata": {},
   "outputs": [],
   "source": [
    "#Building LSTM model\n",
    "model = Sequential()\n",
    "model.add(LSTM(50, return_sequences=True, input_shape=(x_train.shape[1], 1) ))\n",
    "model.add(LSTM(50, return_sequences=False))\n",
    "model.add(Dense(25))\n",
    "model.add(Dense(1))"
   ]
  },
  {
   "cell_type": "code",
   "execution_count": 13,
   "metadata": {},
   "outputs": [],
   "source": [
    "#compile the model\n",
    "model.compile(optimizer=\"adam\", loss=\"mean_squared_error\")"
   ]
  },
  {
   "cell_type": "code",
   "execution_count": null,
   "metadata": {},
   "outputs": [
    {
     "name": "stdout",
     "output_type": "stream",
     "text": [
      "1218/1996 [=================>............] - ETA: 17s - loss: 0.0042"
     ]
    }
   ],
   "source": [
    "#Train the model\n",
    "model.fit(x_train, y_train, batch_size=1, epochs=1)"
   ]
  },
  {
   "cell_type": "code",
   "execution_count": null,
   "metadata": {},
   "outputs": [],
   "source": [
    "#Create the testing dataset\n",
    "test_data = scaled_data[ training_data_len-60: , :]\n",
    "\n",
    "x_test = []\n",
    "y_test = dataset[training_data_len:, :]\n",
    "\n",
    "for i in range (60, len(test_data)):\n",
    "    x_test.append(test_data[i-60:i, 0])"
   ]
  },
  {
   "cell_type": "code",
   "execution_count": null,
   "metadata": {},
   "outputs": [],
   "source": [
    "#Convert the data to numpy array\n",
    "x_test = np.array(x_test)"
   ]
  },
  {
   "cell_type": "code",
   "execution_count": null,
   "metadata": {},
   "outputs": [],
   "source": [
    "#Reshape the data\n",
    "x_test = np.reshape(x_test,( x_test.shape[0], x_test.shape[1], 1 ))"
   ]
  },
  {
   "cell_type": "code",
   "execution_count": null,
   "metadata": {},
   "outputs": [],
   "source": [
    "predictions = model.predict(x_test)\n",
    "predictions = scaler.inverse_transform(predictions)"
   ]
  },
  {
   "cell_type": "code",
   "execution_count": null,
   "metadata": {},
   "outputs": [],
   "source": [
    "#Root mean squared error\n",
    "rmse = np.sqrt (np.mean(predictions - y_test)**2)\n",
    "rmse"
   ]
  },
  {
   "cell_type": "code",
   "execution_count": null,
   "metadata": {},
   "outputs": [],
   "source": [
    "#Plot the data\n",
    "train = data[:training_data_len]\n",
    "valid = data[training_data_len:]\n",
    "valid[\"Predictions\"] = predictions\n",
    "\n",
    "#Visualize the data\n",
    "plt.figure(figsize=(16,8))\n",
    "plt.title(\"Model\")\n",
    "plt.xlabel(\"Date\", fontsize=18)\n",
    "plt.ylabel(\"Close Price USD\", fontsize=18)\n",
    "plt.plot(train[\"Close\"])\n",
    "plt.plot(valid[[\"Close\", \"Predictions\"]])\n",
    "plt.legend([\"Train\" , \"Val\", \"Predictions\"], loc=\"lower right\")\n",
    "plt.show()"
   ]
  },
  {
   "cell_type": "code",
   "execution_count": null,
   "metadata": {},
   "outputs": [],
   "source": [
    "#Show the valid and predicted prices\n",
    "valid"
   ]
  },
  {
   "cell_type": "code",
   "execution_count": null,
   "metadata": {},
   "outputs": [],
   "source": [
    "#Get the quote\n",
    "apple_quote = web.DataReader('GOOGL', data_source='yahoo', start='2012-01-01', end='2021-01-31')\n",
    "new_df = apple_quote.filter([\"Close\"])\n",
    "#Get the last 60 days closing prices and convert the dataframe to an array\n",
    "last_60_days = new_df[-60:].values\n",
    "#Scale the data\n",
    "last_60_days_scaled = scaler.transform(last_60_days)\n",
    "#Create an empty list\n",
    "X_test = []\n",
    "# Append the past 60 days\n",
    "X_test.append(last_60_days_scaled)\n",
    "# Convert the X_test data set to a numpy array\n",
    "X_test = np.array(X_test)\n",
    "# Reshape the data to be 3 dimensional\n",
    "X_test = np.reshape(X_test,( X_test.shape[0], X_test.shape[1], 1 ))\n",
    "# Get the predicted scaled price\n",
    "pred_price = model.predict(X_test)\n",
    "#Undo the scaling\n",
    "pred_price = scaler.inverse_transform(pred_price)\n",
    "#Print the predicted price for 1 day after the train time interval\n",
    "print(pred_price)"
   ]
  },
  {
   "cell_type": "code",
   "execution_count": null,
   "metadata": {},
   "outputs": [],
   "source": [
    "#Get the actual quote\n",
    "apple_quote2 = web.DataReader('GOOGL', data_source='yahoo', start='2021-01-31', end='2021-02-01')\n",
    "print(apple_quote2[\"Close\"])"
   ]
  },
  {
   "cell_type": "code",
   "execution_count": null,
   "metadata": {},
   "outputs": [],
   "source": []
  }
 ],
 "metadata": {
  "kernelspec": {
   "display_name": "Python 3",
   "language": "python",
   "name": "python3"
  },
  "language_info": {
   "codemirror_mode": {
    "name": "ipython",
    "version": 3
   },
   "file_extension": ".py",
   "mimetype": "text/x-python",
   "name": "python",
   "nbconvert_exporter": "python",
   "pygments_lexer": "ipython3",
   "version": "3.8.5"
  }
 },
 "nbformat": 4,
 "nbformat_minor": 4
}
